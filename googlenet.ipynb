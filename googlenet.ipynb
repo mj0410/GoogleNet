{
  "cells": [
    {
      "cell_type": "markdown",
      "metadata": {
        "id": "view-in-github",
        "colab_type": "text"
      },
      "source": [
        "<a href=\"https://colab.research.google.com/github/mj0410/GoogleNet/blob/main/googlenet.ipynb\" target=\"_parent\"><img src=\"https://colab.research.google.com/assets/colab-badge.svg\" alt=\"Open In Colab\"/></a>"
      ]
    },
    {
      "cell_type": "markdown",
      "metadata": {
        "id": "M6WwyAouZskR"
      },
      "source": [
        "# GoogLeNet\n",
        "- binary classification of AI generated dog images and real pictures\n",
        "- images collected from google images"
      ]
    },
    {
      "cell_type": "markdown",
      "metadata": {
        "id": "mOzrPavZZ4qh"
      },
      "source": [
        "### Import Packages"
      ]
    },
    {
      "cell_type": "code",
      "execution_count": 1,
      "metadata": {
        "id": "M_1cKVkcIj2T"
      },
      "outputs": [],
      "source": [
        "import numpy as np\n",
        "import tensorflow as tf\n",
        "from tensorflow.keras import layers, models\n",
        "import PIL\n",
        "import glob, os\n",
        "from sklearn.model_selection import train_test_split"
      ]
    },
    {
      "cell_type": "markdown",
      "metadata": {
        "id": "O45gS6ixZ6Xx"
      },
      "source": [
        "### Load Dataset"
      ]
    },
    {
      "cell_type": "code",
      "execution_count": null,
      "metadata": {
        "id": "8w2dJmpAYxgA"
      },
      "outputs": [],
      "source": [
        "#!mkdir dataset\n",
        "#!unzip /content/drive/MyDrive/NVIDIA/googlenet/dataset.zip -d /content/drive/MyDrive/NVIDIA/googlenet/dataset"
      ]
    },
    {
      "cell_type": "code",
      "execution_count": 2,
      "metadata": {
        "id": "Bw1Aid27Y8Ic"
      },
      "outputs": [],
      "source": [
        "dataset_folder_path = '/content/drive/MyDrive/NVIDIA/googlenet/dataset'\n",
        "category_cnt = os.listdir(dataset_folder_path)"
      ]
    },
    {
      "cell_type": "code",
      "execution_count": 3,
      "metadata": {
        "colab": {
          "base_uri": "https://localhost:8080/"
        },
        "id": "365pZaKFe2ra",
        "outputId": "04ad1d09-ac22-43ee-c081-46d46a9cf66b"
      },
      "outputs": [
        {
          "output_type": "execute_result",
          "data": {
            "text/plain": [
              "['/content/drive/MyDrive/NVIDIA/googlenet/dataset/generated',\n",
              " '/content/drive/MyDrive/NVIDIA/googlenet/dataset/new',\n",
              " '/content/drive/MyDrive/NVIDIA/googlenet/dataset/pictures']"
            ]
          },
          "metadata": {},
          "execution_count": 3
        }
      ],
      "source": [
        "glob.glob(os.path.join(dataset_folder_path, '*'))"
      ]
    },
    {
      "cell_type": "code",
      "execution_count": 4,
      "metadata": {
        "id": "twk4IESaf3m7"
      },
      "outputs": [],
      "source": [
        "pics = glob.glob(os.path.join(dataset_folder_path, 'pictures', '*'))\n",
        "pics = [pic for pic in pics if pic.endswith('jpg') or pic.endswith('jpeg')]\n",
        "\n",
        "paints = glob.glob(os.path.join(dataset_folder_path, 'generated', '*'))\n",
        "paints = [paint for paint in paints if paint.endswith('jpg') or paint.endswith('jpeg')]"
      ]
    },
    {
      "cell_type": "code",
      "execution_count": 5,
      "metadata": {
        "colab": {
          "base_uri": "https://localhost:8080/"
        },
        "id": "GURfZ5qlgJ1S",
        "outputId": "52b8c13c-ac1d-4b2f-d9b0-327c54fb659b"
      },
      "outputs": [
        {
          "output_type": "stream",
          "name": "stdout",
          "text": [
            "552 pictures, example :  /content/drive/MyDrive/NVIDIA/googlenet/dataset/pictures/dogs (112).jpg\n",
            "565 paintings, example :  /content/drive/MyDrive/NVIDIA/googlenet/dataset/generated/generated (15).jpeg\n"
          ]
        }
      ],
      "source": [
        "print(len(pics), \"pictures, example : \", pics[0])\n",
        "print(len(paints), \"paintings, example : \", paints[0])"
      ]
    },
    {
      "cell_type": "markdown",
      "metadata": {
        "id": "9oS7J-GrnDX9"
      },
      "source": [
        "### Data Preprocessing"
      ]
    },
    {
      "cell_type": "code",
      "source": [
        "x, y = [], []\n",
        "img_width, img_height = 128, 128\n",
        "training_path = [p for p in glob.glob(os.path.join(dataset_folder_path, '*')) if not p.endswith('new')]\n",
        "training_path"
      ],
      "metadata": {
        "colab": {
          "base_uri": "https://localhost:8080/"
        },
        "id": "4IM-PE4-Sowv",
        "outputId": "dda25b76-fc96-4a5e-dbc2-af5b3553f120"
      },
      "execution_count": 6,
      "outputs": [
        {
          "output_type": "execute_result",
          "data": {
            "text/plain": [
              "['/content/drive/MyDrive/NVIDIA/googlenet/dataset/generated',\n",
              " '/content/drive/MyDrive/NVIDIA/googlenet/dataset/pictures']"
            ]
          },
          "metadata": {},
          "execution_count": 6
        }
      ]
    },
    {
      "cell_type": "code",
      "execution_count": 7,
      "metadata": {
        "id": "2UFWAvEQjxb7"
      },
      "outputs": [],
      "source": [
        "for label, folder in enumerate(training_path):\n",
        "  for idx, file in enumerate(glob.glob(os.path.join(folder, '*'))):\n",
        "    if file.endswith('jpg') or file.endswith('jpeg'):\n",
        "      image = PIL.Image.open(file)\n",
        "      image = image.resize((img_width, img_height))\n",
        "      image = image.convert('RGB')\n",
        "      np_image = np.asarray(image)\n",
        "      x.append(np_image)\n",
        "      y.append(label)"
      ]
    },
    {
      "cell_type": "code",
      "execution_count": 8,
      "metadata": {
        "id": "dbE6RCFLmolM"
      },
      "outputs": [],
      "source": [
        "x = np.array(x)\n",
        "y = np.array(y)"
      ]
    },
    {
      "cell_type": "code",
      "execution_count": 9,
      "metadata": {
        "colab": {
          "base_uri": "https://localhost:8080/"
        },
        "id": "Jec-cqj3m09t",
        "outputId": "7263a978-a18c-4a99-ad57-8102c52e4575"
      },
      "outputs": [
        {
          "output_type": "stream",
          "name": "stdout",
          "text": [
            "number of images of each category : [565 552]\n",
            "(1117, 128, 128, 3) (1117,)\n"
          ]
        }
      ],
      "source": [
        "print(\"number of images of each category :\", np.bincount(y))\n",
        "print(x.shape, y.shape)"
      ]
    },
    {
      "cell_type": "markdown",
      "metadata": {
        "id": "9xYUDebqoH1t"
      },
      "source": [
        "development tips!\n",
        "\n",
        "```\n",
        "xy = (x_train, x_test, y_train, y_test)\n",
        "np.save('/content/drive/Mydrive/NVIDIA/googlenet/preprocessing.npy', xy)\n",
        "```"
      ]
    },
    {
      "cell_type": "code",
      "execution_count": 10,
      "metadata": {
        "id": "Gk3X0wWqnXO1"
      },
      "outputs": [],
      "source": [
        "x_train, x_test, y_train, y_test = train_test_split(x, y, test_size=0.2, shuffle=True)"
      ]
    },
    {
      "cell_type": "code",
      "execution_count": 11,
      "metadata": {
        "id": "88NuCBNToXMF"
      },
      "outputs": [],
      "source": [
        "x_train = x_train / 255.\n",
        "x_test = x_test / 255."
      ]
    },
    {
      "cell_type": "markdown",
      "metadata": {
        "id": "IvQTcF73pYcd"
      },
      "source": [
        "### Build Model"
      ]
    },
    {
      "cell_type": "markdown",
      "metadata": {
        "id": "7_AJkBWf9fzu"
      },
      "source": [
        "##### Inception\n",
        "\n",
        "![image.png](data:image/png;base64,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)"
      ]
    },
    {
      "cell_type": "code",
      "execution_count": 12,
      "metadata": {
        "id": "wkaAK6MfpZ2l"
      },
      "outputs": [],
      "source": [
        "def inception(input_layer, filter):\n",
        "\n",
        "  tower_1 = layers.Conv2D(filters = filter, kernel_size = (1, 1), strides = 1, padding = 'same', activation = 'relu')(input_layer)\n",
        "\n",
        "  tower_2 = layers.Conv2D(filters = filter, kernel_size = (1, 1), strides = 1, padding = 'same', activation = 'relu')(input_layer)\n",
        "  tower_2 = layers.Conv2D(filters = filter, kernel_size = (3, 3), strides = 1, padding = 'same', activation = 'relu')(tower_2)\n",
        "\n",
        "  tower_3 = layers.Conv2D(filters = filter, kernel_size = (1, 1), strides = 1, padding = 'same', activation = 'relu')(input_layer)\n",
        "  tower_3 = layers.Conv2D(filters = filter, kernel_size = (5, 5), strides = 1, padding = 'same', activation = 'relu')(tower_3)\n",
        "\n",
        "  tower_4 = layers.MaxPool2D(pool_size = (3, 3), strides = 1, padding='same')(input_layer)\n",
        "  tower_4 = layers.Conv2D(filters = filter, kernel_size = (1, 1), strides = 1, padding = 'same', activation = 'relu')(tower_4)\n",
        "\n",
        "  concat_layer = layers.concatenate([tower_1, tower_2, tower_3, tower_4], axis = 3)\n",
        "\n",
        "  return concat_layer"
      ]
    },
    {
      "cell_type": "code",
      "execution_count": 13,
      "metadata": {
        "colab": {
          "base_uri": "https://localhost:8080/"
        },
        "id": "k2__LSKopkYV",
        "outputId": "4f9485be-0dab-464e-de59-e07f643a4690"
      },
      "outputs": [
        {
          "output_type": "stream",
          "name": "stdout",
          "text": [
            "Model: \"model\"\n",
            "__________________________________________________________________________________________________\n",
            " Layer (type)                Output Shape                 Param #   Connected to                  \n",
            "==================================================================================================\n",
            " input_1 (InputLayer)        [(None, 128, 128, 3)]        0         []                            \n",
            "                                                                                                  \n",
            " conv2d_1 (Conv2D)           (None, 128, 128, 64)         256       ['input_1[0][0]']             \n",
            "                                                                                                  \n",
            " conv2d_3 (Conv2D)           (None, 128, 128, 64)         256       ['input_1[0][0]']             \n",
            "                                                                                                  \n",
            " max_pooling2d (MaxPooling2  (None, 128, 128, 3)          0         ['input_1[0][0]']             \n",
            " D)                                                                                               \n",
            "                                                                                                  \n",
            " conv2d (Conv2D)             (None, 128, 128, 64)         256       ['input_1[0][0]']             \n",
            "                                                                                                  \n",
            " conv2d_2 (Conv2D)           (None, 128, 128, 64)         36928     ['conv2d_1[0][0]']            \n",
            "                                                                                                  \n",
            " conv2d_4 (Conv2D)           (None, 128, 128, 64)         102464    ['conv2d_3[0][0]']            \n",
            "                                                                                                  \n",
            " conv2d_5 (Conv2D)           (None, 128, 128, 64)         256       ['max_pooling2d[0][0]']       \n",
            "                                                                                                  \n",
            " concatenate (Concatenate)   (None, 128, 128, 256)        0         ['conv2d[0][0]',              \n",
            "                                                                     'conv2d_2[0][0]',            \n",
            "                                                                     'conv2d_4[0][0]',            \n",
            "                                                                     'conv2d_5[0][0]']            \n",
            "                                                                                                  \n",
            " conv2d_7 (Conv2D)           (None, 128, 128, 120)        30840     ['concatenate[0][0]']         \n",
            "                                                                                                  \n",
            " conv2d_9 (Conv2D)           (None, 128, 128, 120)        30840     ['concatenate[0][0]']         \n",
            "                                                                                                  \n",
            " max_pooling2d_1 (MaxPoolin  (None, 128, 128, 256)        0         ['concatenate[0][0]']         \n",
            " g2D)                                                                                             \n",
            "                                                                                                  \n",
            " conv2d_6 (Conv2D)           (None, 128, 128, 120)        30840     ['concatenate[0][0]']         \n",
            "                                                                                                  \n",
            " conv2d_8 (Conv2D)           (None, 128, 128, 120)        129720    ['conv2d_7[0][0]']            \n",
            "                                                                                                  \n",
            " conv2d_10 (Conv2D)          (None, 128, 128, 120)        360120    ['conv2d_9[0][0]']            \n",
            "                                                                                                  \n",
            " conv2d_11 (Conv2D)          (None, 128, 128, 120)        30840     ['max_pooling2d_1[0][0]']     \n",
            "                                                                                                  \n",
            " concatenate_1 (Concatenate  (None, 128, 128, 480)        0         ['conv2d_6[0][0]',            \n",
            " )                                                                   'conv2d_8[0][0]',            \n",
            "                                                                     'conv2d_10[0][0]',           \n",
            "                                                                     'conv2d_11[0][0]']           \n",
            "                                                                                                  \n",
            " average_pooling2d (Average  (None, 8, 8, 480)            0         ['concatenate_1[0][0]']       \n",
            " Pooling2D)                                                                                       \n",
            "                                                                                                  \n",
            " flatten (Flatten)           (None, 30720)                0         ['average_pooling2d[0][0]']   \n",
            "                                                                                                  \n",
            " dense (Dense)               (None, 128)                  3932288   ['flatten[0][0]']             \n",
            "                                                                                                  \n",
            " dense_1 (Dense)             (None, 1)                    129       ['dense[0][0]']               \n",
            "                                                                                                  \n",
            "==================================================================================================\n",
            "Total params: 4686033 (17.88 MB)\n",
            "Trainable params: 4686033 (17.88 MB)\n",
            "Non-trainable params: 0 (0.00 Byte)\n",
            "__________________________________________________________________________________________________\n"
          ]
        }
      ],
      "source": [
        "input_layer = layers.Input(shape = (img_width, img_height, 3))\n",
        "\n",
        "concat_layer_1 = inception(input_layer, 64)\n",
        "concat_layer_2 = inception(concat_layer_1, 120)\n",
        "\n",
        "average_pooling_layer = layers.AveragePooling2D(pool_size = (16, 16), strides = (16, 16), padding='valid')(concat_layer_2)\n",
        "\n",
        "flat_layer = layers.Flatten()(average_pooling_layer)\n",
        "\n",
        "dense_layer = layers.Dense(128, activation='relu')(flat_layer)\n",
        "output_layer = layers.Dense(1, activation='sigmoid')(dense_layer)\n",
        "\n",
        "google_net_model = models.Model(inputs = input_layer, outputs = output_layer)\n",
        "google_net_model.summary()"
      ]
    },
    {
      "cell_type": "code",
      "execution_count": 15,
      "metadata": {
        "id": "AZg1-2nq-7UP"
      },
      "outputs": [],
      "source": [
        "lr_schedule = tf.keras.optimizers.schedules.ExponentialDecay(\n",
        "    0.01,\n",
        "    decay_steps = 8 * 45,\n",
        "    decay_rate = 0.96,\n",
        "    staircase = True\n",
        ")\n",
        "opt = tf.keras.optimizers.Adam(learning_rate=lr_schedule, ema_momentum=0.9) #, momentum=0.9)\n",
        "google_net_model.compile(loss='binary_crossentropy', optimizer=opt, metrics=['acc'])"
      ]
    },
    {
      "cell_type": "code",
      "execution_count": 16,
      "metadata": {
        "id": "cWZ22jiW_gO3"
      },
      "outputs": [],
      "source": [
        "checkpoint_path = '/content/drive/MyDrive/NVIDIA/googlenet/checkpoint'\n",
        "checkpoint = tf.keras.callbacks.ModelCheckpoint(checkpoint_path, monitor='val_loss', save_best_only=True)\n",
        "early_stopping = tf.keras.callbacks.EarlyStopping(monitor='val_loss', patience=5)"
      ]
    },
    {
      "cell_type": "code",
      "execution_count": null,
      "metadata": {
        "colab": {
          "background_save": true,
          "base_uri": "https://localhost:8080/"
        },
        "id": "J8VojtBp_CJe",
        "outputId": "7edb5ad6-f66d-4c84-daeb-e47b6e0ecd75"
      },
      "outputs": [
        {
          "output_type": "stream",
          "name": "stdout",
          "text": [
            "Epoch 1/50\n",
            "45/45 [==============================] - 42s 575ms/step - loss: 6.1766 - acc: 0.5910 - val_loss: 0.5336 - val_acc: 0.7654\n",
            "Epoch 2/50\n",
            "45/45 [==============================] - 11s 247ms/step - loss: 0.5272 - acc: 0.7577 - val_loss: 0.5929 - val_acc: 0.6983\n",
            "Epoch 3/50\n",
            "45/45 [==============================] - 12s 258ms/step - loss: 0.5187 - acc: 0.7675 - val_loss: 0.5962 - val_acc: 0.7709\n",
            "Epoch 4/50\n",
            "45/45 [==============================] - 14s 314ms/step - loss: 0.4698 - acc: 0.7927 - val_loss: 0.4789 - val_acc: 0.7765\n",
            "Epoch 5/50\n",
            "45/45 [==============================] - 11s 249ms/step - loss: 0.4474 - acc: 0.7955 - val_loss: 0.4974 - val_acc: 0.7933\n",
            "Epoch 6/50\n",
            "14/45 [========>.....................] - ETA: 7s - loss: 0.4247 - acc: 0.8125"
          ]
        }
      ],
      "source": [
        "history = google_net_model.fit(x_train, y_train, batch_size=16, epochs=50,\n",
        "                               validation_split=0.2,\n",
        "                               callbacks=[checkpoint, early_stopping])"
      ]
    },
    {
      "cell_type": "code",
      "source": [
        "import matplotlib.pyplot as plt\n",
        "\n",
        "plt.plot(history.history['loss'])\n",
        "plt.plot(history.history['val_loss'])\n",
        "plt.title('Model loss')\n",
        "plt.ylabel('Loss')\n",
        "plt.xlabel('Epoch')\n",
        "plt.legend(['train', 'val'], loc='upper right')\n",
        "plt.show()"
      ],
      "metadata": {
        "id": "OHVHYmmBnPGz"
      },
      "execution_count": null,
      "outputs": []
    },
    {
      "cell_type": "markdown",
      "source": [
        "### Inference"
      ],
      "metadata": {
        "id": "GijyA3GLEEAJ"
      }
    },
    {
      "cell_type": "code",
      "source": [
        "!mkdir checkpoint\n",
        "!unzip /content/checkpoint.zip -d /content/drive/MyDrive/NVIDIA/googlenet/checkpoint"
      ],
      "metadata": {
        "id": "8boFY3PFIwrp"
      },
      "execution_count": null,
      "outputs": []
    },
    {
      "cell_type": "code",
      "source": [
        "checkpoint_path = '/content/drive/MyDrive/NVIDIA/googlenet/checkpoint'\n",
        "google_net_model.load_weights(checkpoint_path)"
      ],
      "metadata": {
        "colab": {
          "base_uri": "https://localhost:8080/"
        },
        "id": "sjViSLaSEHc5",
        "outputId": "3498c147-16da-412e-f1d4-eb2ba38c8ef3"
      },
      "execution_count": null,
      "outputs": [
        {
          "output_type": "execute_result",
          "data": {
            "text/plain": [
              "<tensorflow.python.checkpoint.checkpoint.CheckpointLoadStatus at 0x79509c785d50>"
            ]
          },
          "metadata": {},
          "execution_count": 12
        }
      ]
    },
    {
      "cell_type": "code",
      "source": [
        "test = PIL.Image.open('/content/generated.jpg')\n",
        "test = test.resize((64, 64))\n",
        "test = test.convert('RGB')\n",
        "np_test = np.asarray(test)\n",
        "test_image_tensor = np.array([np_test])\n",
        "test_image_tensor = test_image_tensor / 255."
      ],
      "metadata": {
        "id": "5T8QPI2OKmvC"
      },
      "execution_count": null,
      "outputs": []
    },
    {
      "cell_type": "code",
      "source": [
        "result = google_net_model.predict(test_image_tensor)\n",
        "result"
      ],
      "metadata": {
        "colab": {
          "base_uri": "https://localhost:8080/"
        },
        "id": "wHeeExqtLEtl",
        "outputId": "def3f801-0076-42f6-b9a1-ef0985344319"
      },
      "execution_count": null,
      "outputs": [
        {
          "output_type": "stream",
          "name": "stdout",
          "text": [
            "1/1 [==============================] - 0s 121ms/step\n"
          ]
        },
        {
          "output_type": "execute_result",
          "data": {
            "text/plain": [
              "array([[0.9610998]], dtype=float32)"
            ]
          },
          "metadata": {},
          "execution_count": 20
        }
      ]
    }
  ],
  "metadata": {
    "colab": {
      "provenance": [],
      "gpuType": "T4",
      "mount_file_id": "1S1cA7Lqo7yFS02Heh68tkR-qjf80Nt90",
      "authorship_tag": "ABX9TyNJq9sQBb2BNo9aeGyoxRDh",
      "include_colab_link": true
    },
    "kernelspec": {
      "display_name": "Python 3",
      "name": "python3"
    },
    "language_info": {
      "name": "python"
    },
    "accelerator": "GPU"
  },
  "nbformat": 4,
  "nbformat_minor": 0
}